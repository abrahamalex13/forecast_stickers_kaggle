{
 "cells": [
  {
   "cell_type": "code",
   "execution_count": 1,
   "metadata": {},
   "outputs": [
    {
     "name": "stderr",
     "output_type": "stream",
     "text": [
      "/Users/alexabraham/anaconda3/envs/forecast_stickers_kaggle/lib/python3.10/site-packages/tqdm/auto.py:21: TqdmWarning: IProgress not found. Please update jupyter and ipywidgets. See https://ipywidgets.readthedocs.io/en/stable/user_install.html\n",
      "  from .autonotebook import tqdm as notebook_tqdm\n"
     ]
    }
   ],
   "source": [
    "import pandas as pd\n",
    "from sklearn.metrics import mean_absolute_percentage_error\n",
    "import requests\n",
    "from sklearn.compose import ColumnTransformer\n",
    "from sklearn.preprocessing import OneHotEncoder, StandardScaler\n",
    "from sklearn.linear_model import LinearRegression, Ridge\n",
    "from sklearn.ensemble import RandomForestRegressor\n",
    "import numpy as np\n",
    "import optuna\n",
    "import xgboost as xgb"
   ]
  },
  {
   "cell_type": "markdown",
   "metadata": {},
   "source": [
    "# Load"
   ]
  },
  {
   "cell_type": "code",
   "execution_count": 2,
   "metadata": {},
   "outputs": [],
   "source": [
    "sales_daily = pd.read_csv(\"./data/external/train.csv\").assign(\n",
    "    date = lambda df_: pd.to_datetime(df_['date']),\n",
    "    series_id = lambda df_: df_['country'].str.cat([df_['store'], df_['product']], sep='|')\n",
    "    )"
   ]
  },
  {
   "cell_type": "code",
   "execution_count": 3,
   "metadata": {},
   "outputs": [
    {
     "data": {
      "text/html": [
       "<div>\n",
       "<style scoped>\n",
       "    .dataframe tbody tr th:only-of-type {\n",
       "        vertical-align: middle;\n",
       "    }\n",
       "\n",
       "    .dataframe tbody tr th {\n",
       "        vertical-align: top;\n",
       "    }\n",
       "\n",
       "    .dataframe thead th {\n",
       "        text-align: right;\n",
       "    }\n",
       "</style>\n",
       "<table border=\"1\" class=\"dataframe\">\n",
       "  <thead>\n",
       "    <tr style=\"text-align: right;\">\n",
       "      <th></th>\n",
       "      <th>id</th>\n",
       "      <th>date</th>\n",
       "      <th>country</th>\n",
       "      <th>store</th>\n",
       "      <th>product</th>\n",
       "      <th>num_sold</th>\n",
       "      <th>series_id</th>\n",
       "    </tr>\n",
       "  </thead>\n",
       "  <tbody>\n",
       "    <tr>\n",
       "      <th>0</th>\n",
       "      <td>0</td>\n",
       "      <td>2010-01-01</td>\n",
       "      <td>Canada</td>\n",
       "      <td>Discount Stickers</td>\n",
       "      <td>Holographic Goose</td>\n",
       "      <td>NaN</td>\n",
       "      <td>Canada|Discount Stickers|Holographic Goose</td>\n",
       "    </tr>\n",
       "    <tr>\n",
       "      <th>1</th>\n",
       "      <td>1</td>\n",
       "      <td>2010-01-01</td>\n",
       "      <td>Canada</td>\n",
       "      <td>Discount Stickers</td>\n",
       "      <td>Kaggle</td>\n",
       "      <td>973.0</td>\n",
       "      <td>Canada|Discount Stickers|Kaggle</td>\n",
       "    </tr>\n",
       "    <tr>\n",
       "      <th>2</th>\n",
       "      <td>2</td>\n",
       "      <td>2010-01-01</td>\n",
       "      <td>Canada</td>\n",
       "      <td>Discount Stickers</td>\n",
       "      <td>Kaggle Tiers</td>\n",
       "      <td>906.0</td>\n",
       "      <td>Canada|Discount Stickers|Kaggle Tiers</td>\n",
       "    </tr>\n",
       "    <tr>\n",
       "      <th>3</th>\n",
       "      <td>3</td>\n",
       "      <td>2010-01-01</td>\n",
       "      <td>Canada</td>\n",
       "      <td>Discount Stickers</td>\n",
       "      <td>Kerneler</td>\n",
       "      <td>423.0</td>\n",
       "      <td>Canada|Discount Stickers|Kerneler</td>\n",
       "    </tr>\n",
       "    <tr>\n",
       "      <th>4</th>\n",
       "      <td>4</td>\n",
       "      <td>2010-01-01</td>\n",
       "      <td>Canada</td>\n",
       "      <td>Discount Stickers</td>\n",
       "      <td>Kerneler Dark Mode</td>\n",
       "      <td>491.0</td>\n",
       "      <td>Canada|Discount Stickers|Kerneler Dark Mode</td>\n",
       "    </tr>\n",
       "  </tbody>\n",
       "</table>\n",
       "</div>"
      ],
      "text/plain": [
       "   id       date country              store             product  num_sold  \\\n",
       "0   0 2010-01-01  Canada  Discount Stickers   Holographic Goose       NaN   \n",
       "1   1 2010-01-01  Canada  Discount Stickers              Kaggle     973.0   \n",
       "2   2 2010-01-01  Canada  Discount Stickers        Kaggle Tiers     906.0   \n",
       "3   3 2010-01-01  Canada  Discount Stickers            Kerneler     423.0   \n",
       "4   4 2010-01-01  Canada  Discount Stickers  Kerneler Dark Mode     491.0   \n",
       "\n",
       "                                     series_id  \n",
       "0   Canada|Discount Stickers|Holographic Goose  \n",
       "1              Canada|Discount Stickers|Kaggle  \n",
       "2        Canada|Discount Stickers|Kaggle Tiers  \n",
       "3            Canada|Discount Stickers|Kerneler  \n",
       "4  Canada|Discount Stickers|Kerneler Dark Mode  "
      ]
     },
     "execution_count": 3,
     "metadata": {},
     "output_type": "execute_result"
    }
   ],
   "source": [
    "sales_daily.head()"
   ]
  },
  {
   "cell_type": "code",
   "execution_count": 4,
   "metadata": {},
   "outputs": [
    {
     "name": "stdout",
     "output_type": "stream",
     "text": [
      "Canada (CAN) GDP Per Capita extraction complete.\n",
      "Finland (FIN) GDP Per Capita extraction complete.\n",
      "Italy (ITA) GDP Per Capita extraction complete.\n",
      "Kenya (KEN) GDP Per Capita extraction complete.\n",
      "Norway (NOR) GDP Per Capita extraction complete.\n",
      "Singapore (SGP) GDP Per Capita extraction complete.\n"
     ]
    }
   ],
   "source": [
    "def extract_gdp_per_capita(country_code, year):\n",
    "    \"\"\"\n",
    "    Adapted from https://www.kaggle.com/competitions/playground-series-s5e1/discussion/554349.\n",
    "    \"\"\"\n",
    "\n",
    "    url='https://api.worldbank.org/v2/country/{0}/indicator/NY.GDP.PCAP.CD?date={1}&format=json'\n",
    "    response = requests.get(url.format(country_code, year)).json()\n",
    "\n",
    "    return response[1][0]['value']\n",
    "\n",
    "# per CountryCode-year: request GDP per capita.\n",
    "# concatenate dataframe of CountryCode | Country | Year | GDP, for integration to Kaggle source\n",
    "\n",
    "countries_code_map = {\n",
    "    'Canada': 'CAN', \n",
    "    'Finland': 'FIN',\n",
    "    'Italy': 'ITA',\n",
    "    'Kenya': 'KEN',\n",
    "    'Norway': 'NOR',\n",
    "    'Singapore': 'SGP'\n",
    "    }\n",
    "\n",
    "countries_gdp_yearly = []\n",
    "for country_title, country_code in countries_code_map.items():\n",
    "    \n",
    "    values_yearly = [\n",
    "        {'year': i, 'gdp_per_capita': extract_gdp_per_capita(country_code, i)}\n",
    "        for i in range(2010, 2019+1)\n",
    "        ]\n",
    "    values_yearly = [pd.DataFrame(x, index=[0]) for x in values_yearly]\n",
    "    values_yearly = pd.concat(values_yearly, axis=0)\n",
    "    \n",
    "    values_yearly = values_yearly.assign(\n",
    "        country = country_title,\n",
    "        country_code = country_code\n",
    "        )\n",
    "    \n",
    "    countries_gdp_yearly.append(values_yearly)\n",
    "\n",
    "    print(f\"{country_title} ({country_code}) GDP Per Capita extraction complete.\")\n",
    "\n",
    "countries_gdp_yearly = pd.concat(countries_gdp_yearly, axis=0)\n",
    "\n",
    "countries_gdp_yearly = countries_gdp_yearly.assign(\n",
    "    gdp_per_capita_log = lambda df_: np.log(df_['gdp_per_capita'])\n",
    "    )"
   ]
  },
  {
   "cell_type": "code",
   "execution_count": 5,
   "metadata": {},
   "outputs": [
    {
     "data": {
      "text/plain": [
       "''"
      ]
     },
     "execution_count": 5,
     "metadata": {},
     "output_type": "execute_result"
    },
    {
     "data": {
      "image/png": "[encoded data removed]",
      "text/plain": [
       "<Figure size 640x480 with 1 Axes>"
      ]
     },
     "metadata": {},
     "output_type": "display_data"
    }
   ],
   "source": [
    "(\n",
    "    countries_gdp_yearly\n",
    "    .set_index('year')\n",
    "    .groupby('country')\n",
    "    ['gdp_per_capita']\n",
    "    .plot(legend=True)\n",
    ")\n",
    ";"
   ]
  },
  {
   "cell_type": "markdown",
   "metadata": {},
   "source": [
    "# Data Understanding"
   ]
  },
  {
   "cell_type": "markdown",
   "metadata": {},
   "source": [
    "## Data Description Report: \"Surface Properties\""
   ]
  },
  {
   "cell_type": "code",
   "execution_count": 6,
   "metadata": {},
   "outputs": [
    {
     "data": {
      "text/plain": [
       "True"
      ]
     },
     "execution_count": 6,
     "metadata": {},
     "output_type": "execute_result"
    }
   ],
   "source": [
    "sales_daily['id'].is_unique"
   ]
  },
  {
   "cell_type": "markdown",
   "metadata": {},
   "source": [
    "### Volumetric Analyses"
   ]
  },
  {
   "cell_type": "code",
   "execution_count": 7,
   "metadata": {},
   "outputs": [
    {
     "data": {
      "text/plain": [
       "(230130, 7)"
      ]
     },
     "execution_count": 7,
     "metadata": {},
     "output_type": "execute_result"
    }
   ],
   "source": [
    "sales_daily.shape"
   ]
  },
  {
   "cell_type": "code",
   "execution_count": 8,
   "metadata": {},
   "outputs": [
    {
     "data": {
      "text/plain": [
       "90"
      ]
     },
     "execution_count": 8,
     "metadata": {},
     "output_type": "execute_result"
    }
   ],
   "source": [
    "sales_daily['series_id'].nunique()"
   ]
  },
  {
   "cell_type": "code",
   "execution_count": 9,
   "metadata": {},
   "outputs": [
    {
     "data": {
      "text/plain": [
       "2557"
      ]
     },
     "execution_count": 9,
     "metadata": {},
     "output_type": "execute_result"
    }
   ],
   "source": [
    "sales_daily['date'].nunique()"
   ]
  },
  {
   "cell_type": "code",
   "execution_count": 10,
   "metadata": {},
   "outputs": [
    {
     "data": {
      "text/plain": [
       "count\n",
       "2557    90\n",
       "Name: count, dtype: int64"
      ]
     },
     "execution_count": 10,
     "metadata": {},
     "output_type": "execute_result"
    }
   ],
   "source": [
    "sales_daily['series_id'].value_counts().value_counts()"
   ]
  },
  {
   "cell_type": "code",
   "execution_count": 11,
   "metadata": {},
   "outputs": [
    {
     "data": {
      "text/plain": [
       "product\n",
       "Holographic Goose     46026\n",
       "Kaggle                46026\n",
       "Kaggle Tiers          46026\n",
       "Kerneler              46026\n",
       "Kerneler Dark Mode    46026\n",
       "Name: count, dtype: int64"
      ]
     },
     "execution_count": 11,
     "metadata": {},
     "output_type": "execute_result"
    }
   ],
   "source": [
    "sales_daily['product'].value_counts(dropna=False)"
   ]
  },
  {
   "cell_type": "code",
   "execution_count": 12,
   "metadata": {},
   "outputs": [
    {
     "data": {
      "text/plain": [
       "country\n",
       "Canada       38355\n",
       "Finland      38355\n",
       "Italy        38355\n",
       "Kenya        38355\n",
       "Norway       38355\n",
       "Singapore    38355\n",
       "Name: count, dtype: int64"
      ]
     },
     "execution_count": 12,
     "metadata": {},
     "output_type": "execute_result"
    }
   ],
   "source": [
    "sales_daily['country'].value_counts(dropna=False)"
   ]
  },
  {
   "cell_type": "code",
   "execution_count": 13,
   "metadata": {},
   "outputs": [
    {
     "data": {
      "text/plain": [
       "store\n",
       "Discount Stickers       76710\n",
       "Stickers for Less       76710\n",
       "Premium Sticker Mart    76710\n",
       "Name: count, dtype: int64"
      ]
     },
     "execution_count": 13,
     "metadata": {},
     "output_type": "execute_result"
    }
   ],
   "source": [
    "sales_daily['store'].value_counts(dropna=False)"
   ]
  },
  {
   "cell_type": "markdown",
   "metadata": {},
   "source": [
    "### Fields' Types and Values"
   ]
  },
  {
   "cell_type": "code",
   "execution_count": 14,
   "metadata": {},
   "outputs": [
    {
     "data": {
      "text/plain": [
       "count                 230130\n",
       "mean     2013-07-02 00:00:00\n",
       "min      2010-01-01 00:00:00\n",
       "25%      2011-10-02 00:00:00\n",
       "50%      2013-07-02 00:00:00\n",
       "75%      2015-04-02 00:00:00\n",
       "max      2016-12-31 00:00:00\n",
       "Name: date, dtype: object"
      ]
     },
     "execution_count": 14,
     "metadata": {},
     "output_type": "execute_result"
    }
   ],
   "source": [
    "sales_daily['date'].describe()"
   ]
  },
  {
   "cell_type": "code",
   "execution_count": 15,
   "metadata": {},
   "outputs": [
    {
     "data": {
      "text/plain": [
       "count    221259.000000\n",
       "mean        752.527382\n",
       "std         690.165445\n",
       "min           5.000000\n",
       "25%         219.000000\n",
       "50%         605.000000\n",
       "75%        1114.000000\n",
       "max        5939.000000\n",
       "Name: num_sold, dtype: float64"
      ]
     },
     "execution_count": 15,
     "metadata": {},
     "output_type": "execute_result"
    }
   ],
   "source": [
    "sales_daily['num_sold'].describe()"
   ]
  },
  {
   "cell_type": "markdown",
   "metadata": {},
   "source": [
    "## Data Quality Report"
   ]
  },
  {
   "cell_type": "code",
   "execution_count": 16,
   "metadata": {},
   "outputs": [
    {
     "data": {
      "text/plain": [
       "id           0.000000\n",
       "date         0.000000\n",
       "country      0.000000\n",
       "store        0.000000\n",
       "product      0.000000\n",
       "num_sold     0.038548\n",
       "series_id    0.000000\n",
       "dtype: float64"
      ]
     },
     "execution_count": 16,
     "metadata": {},
     "output_type": "execute_result"
    }
   ],
   "source": [
    "sales_daily.isnull().mean()"
   ]
  },
  {
   "cell_type": "code",
   "execution_count": 17,
   "metadata": {},
   "outputs": [
    {
     "data": {
      "text/plain": [
       "date\n",
       "2010-04-21    7\n",
       "2010-04-01    7\n",
       "2010-05-11    7\n",
       "2010-06-01    7\n",
       "2010-07-24    6\n",
       "             ..\n",
       "2014-03-08    2\n",
       "2014-03-09    2\n",
       "2014-03-10    2\n",
       "2014-03-11    2\n",
       "2016-12-31    2\n",
       "Name: count, Length: 2557, dtype: int64"
      ]
     },
     "execution_count": 17,
     "metadata": {},
     "output_type": "execute_result"
    }
   ],
   "source": [
    "# are null sales events concentrated on a particular date?\n",
    "# doesn't appear so\n",
    "sales_daily.query(\"num_sold.isnull()\")['date'].value_counts()"
   ]
  },
  {
   "cell_type": "code",
   "execution_count": 18,
   "metadata": {},
   "outputs": [
    {
     "data": {
      "text/plain": [
       "series_id\n",
       "Canada|Discount Stickers|Holographic Goose       2557\n",
       "Kenya|Discount Stickers|Holographic Goose        2557\n",
       "Kenya|Stickers for Less|Holographic Goose        1358\n",
       "Canada|Stickers for Less|Holographic Goose       1308\n",
       "Kenya|Premium Sticker Mart|Holographic Goose      646\n",
       "Canada|Premium Sticker Mart|Holographic Goose     380\n",
       "Kenya|Discount Stickers|Kerneler                   63\n",
       "Kenya|Discount Stickers|Kerneler Dark Mode          1\n",
       "Canada|Discount Stickers|Kerneler                   1\n",
       "Name: count, dtype: int64"
      ]
     },
     "execution_count": 18,
     "metadata": {},
     "output_type": "execute_result"
    }
   ],
   "source": [
    "sales_daily.query(\"num_sold.isnull()\")['series_id'].value_counts()"
   ]
  },
  {
   "cell_type": "markdown",
   "metadata": {},
   "source": [
    "## Data Exploration Report"
   ]
  },
  {
   "cell_type": "code",
   "execution_count": 19,
   "metadata": {},
   "outputs": [
    {
     "data": {
      "text/plain": [
       "0.17863411864432988"
      ]
     },
     "execution_count": 19,
     "metadata": {},
     "output_type": "execute_result"
    }
   ],
   "source": [
    "# a naive model: series' historical average sales, daily\n",
    "\n",
    "is_training = (\n",
    "    (sales_daily['date'] >= pd.to_datetime('2010-01-01'))\n",
    "    & (sales_daily['date'] < pd.to_datetime(\"2014-01-01\"))\n",
    ")\n",
    "\n",
    "is_validation = sales_daily['date'] >= pd.to_datetime(\"2014-01-01\")\n",
    "\n",
    "# is_training.sum(), is_validation.sum()\n",
    "\n",
    "# with original train data: using strictly train segment, groupby average\n",
    "predictions_naive = (\n",
    "    sales_daily\n",
    "    .loc[is_training]\n",
    "    .groupby('series_id')\n",
    "    [['num_sold']]\n",
    "    .agg('mean')\n",
    "    .reset_index(drop=False)\n",
    ")\n",
    "\n",
    "predictions_naive_evaluate = pd.merge(\n",
    "    sales_daily.loc[is_validation],\n",
    "    predictions_naive.rename(columns={'num_sold': 'yhat'}),\n",
    "    how='left'\n",
    "    )\n",
    "\n",
    "# expect a couple series with all null\n",
    "predictions_naive.isnull().sum()\n",
    "# recommended in this discussion: https://www.kaggle.com/competitions/playground-series-s5e1/discussion/554553 \n",
    "predictions_naive_evaluate = predictions_naive_evaluate.dropna()\n",
    "\n",
    "mean_absolute_percentage_error(\n",
    "    predictions_naive_evaluate['num_sold'],\n",
    "    predictions_naive_evaluate['yhat']\n",
    ")"
   ]
  },
  {
   "cell_type": "code",
   "execution_count": 20,
   "metadata": {},
   "outputs": [
    {
     "data": {
      "text/plain": [
       "(95233, 8)"
      ]
     },
     "execution_count": 20,
     "metadata": {},
     "output_type": "execute_result"
    }
   ],
   "source": [
    "predictions_naive_evaluate.shape"
   ]
  },
  {
   "cell_type": "code",
   "execution_count": 21,
   "metadata": {},
   "outputs": [
    {
     "data": {
      "text/plain": [
       "0.17764235834140726"
      ]
     },
     "execution_count": 21,
     "metadata": {},
     "output_type": "execute_result"
    }
   ],
   "source": [
    "# a naive model: series' historical average sales, daily\n",
    "\n",
    "is_training = (\n",
    "    (sales_daily['date'] >= pd.to_datetime('2013-01-01'))\n",
    "    & (sales_daily['date'] < pd.to_datetime(\"2014-01-01\"))\n",
    ")\n",
    "\n",
    "is_validation = sales_daily['date'] >= pd.to_datetime(\"2014-01-01\")\n",
    "\n",
    "# is_training.sum(), is_validation.sum()\n",
    "\n",
    "# with original train data: using strictly train segment, groupby average\n",
    "predictions_naive = (\n",
    "    sales_daily\n",
    "    .loc[is_training]\n",
    "    .groupby('series_id')\n",
    "    [['num_sold']]\n",
    "    .agg('mean')\n",
    "    .reset_index(drop=False)\n",
    ")\n",
    "\n",
    "predictions_naive_evaluate = pd.merge(\n",
    "    sales_daily.loc[is_validation],\n",
    "    predictions_naive.rename(columns={'num_sold': 'yhat'}),\n",
    "    how='left'\n",
    "    )\n",
    "\n",
    "# expect a couple series with all null\n",
    "predictions_naive.isnull().sum()\n",
    "# recommended in this discussion: https://www.kaggle.com/competitions/playground-series-s5e1/discussion/554553 \n",
    "predictions_naive_evaluate = predictions_naive_evaluate.dropna()\n",
    "\n",
    "mean_absolute_percentage_error(\n",
    "    predictions_naive_evaluate['num_sold'],\n",
    "    predictions_naive_evaluate['yhat']\n",
    ")"
   ]
  },
  {
   "cell_type": "code",
   "execution_count": 22,
   "metadata": {},
   "outputs": [
    {
     "data": {
      "text/plain": [
       "''"
      ]
     },
     "execution_count": 22,
     "metadata": {},
     "output_type": "execute_result"
    },
    {
     "data": {
      "image/png": "[encoded data removed]",
      "text/plain": [
       "<Figure size 640x480 with 1 Axes>"
      ]
     },
     "metadata": {},
     "output_type": "display_data"
    }
   ],
   "source": [
    "sales_sample_daily = sales_daily.query(\"series_id == 'Norway|Premium Sticker Mart|Kaggle'\")\n",
    "\n",
    "(\n",
    "    sales_sample_daily\n",
    "    .loc[is_training]\n",
    "    [['date', 'num_sold']]\n",
    "    .set_index('date')\n",
    "    .plot\n",
    "    .line()\n",
    ")\n",
    ";"
   ]
  },
  {
   "cell_type": "markdown",
   "metadata": {},
   "source": [
    "# Data Preparation"
   ]
  },
  {
   "cell_type": "code",
   "execution_count": 23,
   "metadata": {},
   "outputs": [],
   "source": [
    "def transform_calendar_features(df):\n",
    "\n",
    "    df = (\n",
    "        df\n",
    "        .assign(\n",
    "            year = lambda df_: df_['date'].dt.year,\n",
    "            month = lambda df_: df_['date'].dt.month,\n",
    "            week_of_year = lambda df_: df_['date'].dt.isocalendar().week,\n",
    "            day_of_week = lambda df_: df_['date'].dt.day_name(),\n",
    "            # President's Day is the 'third Monday in February'\n",
    "            day_of_month = lambda df_: df_['date'].dt.day,\n",
    "            day_of_year = lambda df_: df_['date'].dt.dayofyear,\n",
    "            # week of month would be ambiguous because, one week may span 2 months,\n",
    "            days_since_start = lambda df_: (df['date'] - pd.to_datetime(\"2010-01-01\")).dt.days\n",
    "            )\n",
    "        .assign(\n",
    "            # as day_of_year rises, don't expect monotonic relationship with outcome.\n",
    "            # rather, expect periodic (sinusoidal) relationship.\n",
    "            # as sin(x) rises, so too does outcome ...\n",
    "            # ensure one cycle over one year.\n",
    "            # at baseline, one sinusoidal cycle occurs per 2π\n",
    "            day_of_year_sin = lambda df_: np.sin(df_['day_of_year'] * 2 * np.pi / 365),\n",
    "            day_of_year_cos = lambda df_: np.cos(df_['day_of_year'] * 2 * np.pi / 365),\n",
    "\n",
    "            day_of_month_sin = lambda df_: np.sin(df_['day_of_month'] * 2 * np.pi / 30),\n",
    "            day_of_month_cos = lambda df_: np.cos(df_['day_of_month'] * 2 * np.pi / 30),\n",
    "\n",
    "            # exploratory visuals suggest ~2-year cycles\n",
    "            days_since_start_macro_sin = lambda df_: np.sin(df_['days_since_start'] * 2 * np.pi / 730),\n",
    "            days_since_start_macro_cos = lambda df_: np.cos(df_['days_since_start'] * 2 * np.pi / 730),\n",
    "\n",
    "            )\n",
    "\n",
    "        )\n",
    "    \n",
    "    return df\n",
    "\n",
    "def integrate_external_features(df):\n",
    "\n",
    "    df = pd.merge(df, countries_gdp_yearly, how='left')\n",
    "    assert df['gdp_per_capita'].notnull().all().all()\n",
    "\n",
    "    return df\n",
    "\n",
    "sales_daily = transform_calendar_features(sales_daily)\n",
    "sales_daily = integrate_external_features(sales_daily)"
   ]
  },
  {
   "cell_type": "code",
   "execution_count": 24,
   "metadata": {},
   "outputs": [
    {
     "data": {
      "text/plain": [
       "Index(['id', 'date', 'country', 'store', 'product', 'num_sold', 'series_id',\n",
       "       'year', 'month', 'week_of_year', 'day_of_week', 'day_of_month',\n",
       "       'day_of_year', 'days_since_start', 'day_of_year_sin', 'day_of_year_cos',\n",
       "       'day_of_month_sin', 'day_of_month_cos', 'days_since_start_macro_sin',\n",
       "       'days_since_start_macro_cos', 'gdp_per_capita', 'country_code',\n",
       "       'gdp_per_capita_log'],\n",
       "      dtype='object')"
      ]
     },
     "execution_count": 24,
     "metadata": {},
     "output_type": "execute_result"
    }
   ],
   "source": [
    "sales_daily.columns"
   ]
  },
  {
   "cell_type": "code",
   "execution_count": 25,
   "metadata": {},
   "outputs": [],
   "source": [
    "FEATURES_TO_ONEHOT = [\n",
    "    'country', \n",
    "    'store',\n",
    "    'product',\n",
    "    # year attempted, but then omitted, because year-grained shifts\n",
    "    # should be explained by exogenous factors, \n",
    "    # out-of-sample forecasts that aren't flat\n",
    "    'month', \n",
    "    'week_of_year', \n",
    "    'day_of_week'\n",
    "    ]\n",
    "FEATURES_NUMERIC_LEVEL = [\n",
    "    'gdp_per_capita_log',\n",
    "    'day_of_month', \n",
    "    'day_of_month_sin',\n",
    "    'day_of_month_cos',\n",
    "    'day_of_year_sin',\n",
    "    'day_of_year_cos',\n",
    "    'day_of_year',\n",
    "    'days_since_start_macro_sin',\n",
    "    'days_since_start_macro_cos',\n",
    "    'days_since_start'\n",
    "    ]\n",
    "FEATURES_SOURCE_FORM = FEATURES_TO_ONEHOT + FEATURES_NUMERIC_LEVEL\n",
    "ATTRIBUTES = ['series_id', 'date', 'id']\n",
    "\n",
    "sales_daily_complete = sales_daily.dropna(subset='num_sold')\n",
    "\n",
    "XY = sales_daily_complete[['num_sold'] + ATTRIBUTES + FEATURES_SOURCE_FORM]\n",
    "\n",
    "XY = XY.assign(num_sold_log = lambda df_: np.log(df_['num_sold']))\n",
    "\n",
    "feature_transform_pipeline = ColumnTransformer([\n",
    "    ('transformer_onehot', OneHotEncoder(sparse_output=False, handle_unknown='ignore'), FEATURES_TO_ONEHOT),\n",
    "    ('transformer_std', StandardScaler(), FEATURES_NUMERIC_LEVEL)\n",
    "    ],\n",
    "    verbose_feature_names_out=False,\n",
    "    remainder='passthrough'\n",
    "    )\n",
    "feature_transform_pipeline.set_output(transform='pandas')\n",
    "\n",
    "XY = feature_transform_pipeline.fit_transform(XY)\n",
    "\n",
    "FEATURES_UNIVERSE = list( set(XY.columns).difference(set(ATTRIBUTES + ['num_sold', 'num_sold_log'])) )\n",
    "FEATURES_GLOBAL_MODEL = [\n",
    "    x for x in FEATURES_UNIVERSE\n",
    "    # inclusion yields flat predictions\n",
    "    if not any(stem in x for stem in ['days_since_start'])\n",
    "    ]\n",
    "FEATURES_LOCAL_MODEL = [\n",
    "    x for x in FEATURES_UNIVERSE \n",
    "    if not any(stem in x for stem in ['country', 'store', 'product'])\n",
    "    ]"
   ]
  },
  {
   "cell_type": "markdown",
   "metadata": {},
   "source": [
    "# Modeling"
   ]
  },
  {
   "cell_type": "markdown",
   "metadata": {},
   "source": [
    "## Global Model"
   ]
  },
  {
   "cell_type": "code",
   "execution_count": 26,
   "metadata": {},
   "outputs": [
    {
     "data": {
      "text/plain": [
       "[{'validation': 0.08861105160381477, 'train': 0.01844193705725554},\n",
       " {'validation': 0.0715132956372125, 'train': 0.01822308683540498}]"
      ]
     },
     "execution_count": 26,
     "metadata": {},
     "output_type": "execute_result"
    }
   ],
   "source": [
    "kfolds = [\n",
    "\n",
    "    # validation set 2014-16 matches ultimate test set's length, 2017-19\n",
    "    ( \n",
    "        ( (XY['date'] >= pd.to_datetime('2010-01-01')) & (XY['date'] < pd.to_datetime(\"2014-01-01\")) ),\n",
    "        XY['date'] >= pd.to_datetime(\"2014-01-01\")\n",
    "    ),\n",
    "\n",
    "    ( \n",
    "        ( (XY['date'] >= pd.to_datetime('2010-01-01')) & (XY['date'] < pd.to_datetime(\"2016-01-01\")) ),\n",
    "        XY['date'] >= pd.to_datetime(\"2016-01-01\")\n",
    "    )\n",
    "\n",
    "    ]\n",
    "\n",
    "kfolds_evaluation = []\n",
    "for is_training, is_validation in kfolds:\n",
    "\n",
    "    model_global = RandomForestRegressor(n_estimators=100, n_jobs=-1)\n",
    "    model_global.fit(\n",
    "        XY.loc[is_training, FEATURES_GLOBAL_MODEL],\n",
    "        XY.loc[is_training, 'num_sold_log']\n",
    "        )\n",
    "    \n",
    "    predictions = (\n",
    "        XY\n",
    "        .copy()\n",
    "        .assign(yhat = lambda df_: np.exp(model_global.predict(df_[FEATURES_GLOBAL_MODEL])))\n",
    "        )\n",
    "    \n",
    "    scores = {\n",
    "        'validation': mean_absolute_percentage_error( \n",
    "            predictions.loc[is_validation, 'num_sold'],\n",
    "            predictions.loc[is_validation, 'yhat']\n",
    "            ),\n",
    "        'train': mean_absolute_percentage_error( \n",
    "            predictions.loc[is_training, 'num_sold'],\n",
    "            predictions.loc[is_training, 'yhat']\n",
    "            )\n",
    "        }\n",
    "    \n",
    "    kfolds_evaluation.append(scores)\n",
    "\n",
    "kfolds_evaluation"
   ]
  },
  {
   "cell_type": "code",
   "execution_count": 27,
   "metadata": {},
   "outputs": [
    {
     "data": {
      "text/plain": [
       "<Axes: xlabel='date'>"
      ]
     },
     "execution_count": 27,
     "metadata": {},
     "output_type": "execute_result"
    },
    {
     "data": {
      "image/png": "[encoded data removed]",
      "text/plain": [
       "<Figure size 640x480 with 1 Axes>"
      ]
     },
     "metadata": {},
     "output_type": "display_data"
    }
   ],
   "source": [
    "predictions_sample = predictions.query(\"series_id == 'Norway|Premium Sticker Mart|Kaggle'\")\n",
    "\n",
    "predictions_sample.set_index('date')[['num_sold', 'yhat']].plot.line()"
   ]
  },
  {
   "cell_type": "code",
   "execution_count": 28,
   "metadata": {},
   "outputs": [],
   "source": [
    "# WIP: could gradient boosting machine improve global model?\n",
    "\n",
    "# def objective(trial):\n",
    "\n",
    "#     ROUNDS_COUNT = 1_000\n",
    "\n",
    "#     param = {\n",
    "#         \"objective\": \"reg:squarederror\",\n",
    "#         \"booster\": trial.suggest_categorical(\n",
    "#             \"booster\", [\"gbtree\", \"gblinear\", \"dart\"]\n",
    "#         ),\n",
    "#         \"lambda\": trial.suggest_float(\"lambda\", 1e-8, 1.0, log=True),\n",
    "#         \"alpha\": trial.suggest_float(\"alpha\", 1e-8, 1.0, log=True),\n",
    "#         \"subsample\": trial.suggest_float(\"subsample\", 0.4, 1.0),\n",
    "#         \"colsample_bytree\": trial.suggest_float(\"colsample_bytree\", 0.2, 1.0),\n",
    "#     }\n",
    "\n",
    "#     if param[\"booster\"] in [\"gbtree\", \"dart\"]:\n",
    "#         param[\"max_depth\"] = trial.suggest_int(\"max_depth\", 1, 9, step=2)\n",
    "\n",
    "#         param[\"min_child_weight\"] = trial.suggest_int(\"min_child_weight\", 1, 10)\n",
    "#         param[\"eta\"] = trial.suggest_float(\"eta\", 1e-5, 0.01, log=True)\n",
    "\n",
    "#         param[\"gamma\"] = trial.suggest_float(\"gamma\", 1e-8, 1.0, log=True)\n",
    "#         param[\"grow_policy\"] = trial.suggest_categorical(\n",
    "#             \"grow_policy\", [\"depthwise\", \"lossguide\"]\n",
    "#         )\n",
    "\n",
    "#     if param[\"booster\"] == \"dart\":\n",
    "#         param[\"sample_type\"] = trial.suggest_categorical(\n",
    "#             \"sample_type\", [\"uniform\", \"weighted\"]\n",
    "#         )\n",
    "#         param[\"normalize_type\"] = trial.suggest_categorical(\n",
    "#             \"normalize_type\", [\"tree\", \"forest\"]\n",
    "#         )\n",
    "#         param[\"rate_drop\"] = trial.suggest_float(\n",
    "#             \"rate_drop\", 1e-8, 1.0, log=True\n",
    "#         )\n",
    "#         param[\"skip_drop\"] = trial.suggest_float(\n",
    "#             \"skip_drop\", 1e-8, 1.0, log=True\n",
    "#         )\n",
    "\n",
    "\n",
    "#     kfolds_evaluation = []\n",
    "#     for is_training, is_validation in kfolds:\n",
    "\n",
    "#         dtrain = xgb.DMatrix(\n",
    "#             XY.loc[is_training, FEATURES_GLOBAL_MODEL], \n",
    "#             label=XY.loc[is_training, 'num_sold_log']\n",
    "#             )\n",
    "#         dtest = xgb.DMatrix(XY[FEATURES_GLOBAL_MODEL])\n",
    "\n",
    "#         model_global = xgb.train(param, dtrain, ROUNDS_COUNT)\n",
    "        \n",
    "#         yhat = model_global.predict(dtest)\n",
    "#         predictions = (\n",
    "#             XY\n",
    "#             .copy()\n",
    "#             .assign(yhat = lambda df_: np.exp(yhat))\n",
    "#             )\n",
    "\n",
    "#         scores = {\n",
    "#             'validation': mean_absolute_percentage_error( \n",
    "#                 predictions.loc[is_validation, 'num_sold'],\n",
    "#                 predictions.loc[is_validation, 'yhat']\n",
    "#                 ),\n",
    "#             'train': mean_absolute_percentage_error( \n",
    "#                 predictions.loc[is_training, 'num_sold'],\n",
    "#                 predictions.loc[is_training, 'yhat']\n",
    "#                 )\n",
    "#             }\n",
    "        \n",
    "#         kfolds_evaluation.append(scores)\n",
    "\n",
    "#     score_overall = np.mean([ \n",
    "#         kfolds_evaluation[0]['validation'], \n",
    "#         kfolds_evaluation[1]['validation'] \n",
    "#         ])\n",
    "    \n",
    "#     return score_overall\n",
    "\n",
    "# study = optuna.create_study()\n",
    "\n",
    "# study.optimize(\n",
    "#     objective,\n",
    "#     n_trials=50,\n",
    "#     catch=(ValueError,),\n",
    "#     n_jobs=-1,\n",
    "#     timeout=12 * 60 * 60,\n",
    "# )"
   ]
  },
  {
   "cell_type": "code",
   "execution_count": 29,
   "metadata": {},
   "outputs": [],
   "source": [
    "# model_global = RandomForestRegressor(n_estimators=100, n_jobs=-1)\n",
    "# model_global.fit(XY[FEATURES_GLOBAL_MODEL], XY['num_sold_log'])"
   ]
  },
  {
   "cell_type": "markdown",
   "metadata": {},
   "source": [
    "## Local Models"
   ]
  },
  {
   "cell_type": "code",
   "execution_count": 30,
   "metadata": {},
   "outputs": [],
   "source": [
    "# from previous retail forecasting competitions' leaders,\n",
    "# plus theoretically expected heterogeneity between series: \n",
    "# one model per segment\n",
    "\n",
    "segments_XY = {grp: df for grp, df in XY.groupby('series_id')}\n",
    "\n",
    "# even when split into many dataframes, *index-based* subsets.\n",
    "# indexes maintained when dataframe splits.\n",
    "kfolds = [\n",
    "\n",
    "    # validation set 2014-16 matches ultimate test set's length, 2017-19\n",
    "    ( \n",
    "        ( (XY['date'] >= pd.to_datetime('2010-01-01')) & (XY['date'] < pd.to_datetime(\"2014-01-01\")) ),\n",
    "        XY['date'] >= pd.to_datetime(\"2014-01-01\")\n",
    "    ),\n",
    "\n",
    "    ( \n",
    "        ( (XY['date'] >= pd.to_datetime('2010-01-01')) & (XY['date'] < pd.to_datetime(\"2016-01-01\")) ),\n",
    "        XY['date'] >= pd.to_datetime(\"2016-01-01\")\n",
    "    )\n",
    "\n",
    "    ]\n",
    "\n",
    "kfolds_evaluation = []\n",
    "for is_training, is_validation in kfolds:\n",
    "\n",
    "    # per group: fit model on train, predict on validation\n",
    "    # WARNING: one model instance, then fitting it on each segment,\n",
    "    # does not imply separate model objects. they're all tied together.\n",
    "        # model = LinearRegression()\n",
    "    segments_models = {\n",
    "        grp: Ridge(1e-1).fit(\n",
    "            XY.loc[is_training, FEATURES_LOCAL_MODEL], \n",
    "            XY.loc[is_training, 'num_sold_log']\n",
    "            )\n",
    "        for grp, XY in segments_XY.items()\n",
    "        }\n",
    "\n",
    "    segments_predictions = [\n",
    "        df.assign(\n",
    "            yhat = lambda df_: np.exp(segments_models[grp].predict(df_[FEATURES_LOCAL_MODEL])) \n",
    "            )\n",
    "        for grp, df in segments_XY.items()\n",
    "        ]\n",
    "\n",
    "    predictions = pd.concat(segments_predictions, axis=0)\n",
    "\n",
    "    scores = {\n",
    "        'validation': mean_absolute_percentage_error( \n",
    "            predictions.loc[is_validation, 'num_sold'],\n",
    "            predictions.loc[is_validation, 'yhat']\n",
    "            ),\n",
    "        'train': mean_absolute_percentage_error( \n",
    "            predictions.loc[is_training, 'num_sold'],\n",
    "            predictions.loc[is_training, 'yhat']\n",
    "            )\n",
    "        }\n",
    "    \n",
    "    kfolds_evaluation.append(scores)"
   ]
  },
  {
   "cell_type": "code",
   "execution_count": 31,
   "metadata": {},
   "outputs": [
    {
     "data": {
      "text/plain": [
       "[{'validation': 0.0744946463660479, 'train': 0.04556600626556164},\n",
       " {'validation': 0.05088036673633741, 'train': 0.04635338959764835}]"
      ]
     },
     "execution_count": 31,
     "metadata": {},
     "output_type": "execute_result"
    }
   ],
   "source": [
    "kfolds_evaluation"
   ]
  },
  {
   "cell_type": "code",
   "execution_count": 32,
   "metadata": {},
   "outputs": [
    {
     "name": "stderr",
     "output_type": "stream",
     "text": [
      "[I 2025-01-05 22:16:16,844] A new study created in memory with name: no-name-e8d9cf69-99ef-4540-bd0b-24406426c755\n",
      "[I 2025-01-05 22:16:21,846] Trial 1 finished with value: 0.08247989358099486 and parameters: {'alpha': 0.00011548315126878178}. Best is trial 1 with value: 0.08247989358099486.\n",
      "[I 2025-01-05 22:16:21,869] Trial 6 finished with value: 0.05611433509576448 and parameters: {'alpha': 0.6202070549968495}. Best is trial 6 with value: 0.05611433509576448.\n",
      "[I 2025-01-05 22:16:22,204] Trial 5 finished with value: 0.0530043184467395 and parameters: {'alpha': 0.29983761246422036}. Best is trial 5 with value: 0.0530043184467395.\n",
      "[I 2025-01-05 22:16:22,221] Trial 4 finished with value: 0.07345081865553994 and parameters: {'alpha': 0.007665335986208017}. Best is trial 5 with value: 0.0530043184467395.\n",
      "[I 2025-01-05 22:16:22,259] Trial 13 finished with value: 0.07731347113188614 and parameters: {'alpha': 0.00047187383531760744}. Best is trial 5 with value: 0.0530043184467395.\n",
      "[I 2025-01-05 22:16:22,307] Trial 11 finished with value: 0.07364146984272205 and parameters: {'alpha': 0.006658500746042264}. Best is trial 5 with value: 0.0530043184467395.\n",
      "[I 2025-01-05 22:16:22,327] Trial 12 finished with value: 0.07756519454197343 and parameters: {'alpha': 0.00041936998968111105}. Best is trial 5 with value: 0.0530043184467395.\n",
      "[I 2025-01-05 22:16:22,373] Trial 2 finished with value: 0.07214541915852762 and parameters: {'alpha': 0.01576963140286562}. Best is trial 5 with value: 0.0530043184467395.\n",
      "[I 2025-01-05 22:16:22,389] Trial 0 finished with value: 0.07427130162235554 and parameters: {'alpha': 0.003902015578301289}. Best is trial 5 with value: 0.0530043184467395.\n",
      "[I 2025-01-05 22:16:22,413] Trial 3 finished with value: 0.06820021208862556 and parameters: {'alpha': 0.045982658872028445}. Best is trial 5 with value: 0.0530043184467395.\n",
      "[I 2025-01-05 22:16:22,434] Trial 9 finished with value: 0.07629772534043078 and parameters: {'alpha': 0.0008063191935999501}. Best is trial 5 with value: 0.0530043184467395.\n",
      "[I 2025-01-05 22:16:22,459] Trial 7 finished with value: 0.07429292333499649 and parameters: {'alpha': 0.0038257484817921226}. Best is trial 5 with value: 0.0530043184467395.\n",
      "[I 2025-01-05 22:16:22,500] Trial 10 finished with value: 0.0754623936945571 and parameters: {'alpha': 0.001405897492857263}. Best is trial 5 with value: 0.0530043184467395.\n",
      "[I 2025-01-05 22:16:22,618] Trial 8 finished with value: 0.06847060185910367 and parameters: {'alpha': 0.04370585700155638}. Best is trial 5 with value: 0.0530043184467395.\n",
      "[I 2025-01-05 22:16:27,550] Trial 15 finished with value: 0.08401481536764834 and parameters: {'alpha': 0.00010106214811525714}. Best is trial 5 with value: 0.0530043184467395.\n",
      "[I 2025-01-05 22:16:27,732] Trial 14 finished with value: 0.05341690584161321 and parameters: {'alpha': 0.278321907867909}. Best is trial 5 with value: 0.0530043184467395.\n",
      "[I 2025-01-05 22:16:28,135] Trial 16 finished with value: 0.07365905590493874 and parameters: {'alpha': 0.006569046210667574}. Best is trial 5 with value: 0.0530043184467395.\n",
      "[I 2025-01-05 22:16:28,170] Trial 19 finished with value: 0.06363380391873077 and parameters: {'alpha': 0.08952262286320566}. Best is trial 5 with value: 0.0530043184467395.\n",
      "[I 2025-01-05 22:16:28,237] Trial 17 finished with value: 0.07130749835724737 and parameters: {'alpha': 0.02161799581748311}. Best is trial 5 with value: 0.0530043184467395.\n",
      "[I 2025-01-05 22:16:28,260] Trial 18 finished with value: 0.06744837729457609 and parameters: {'alpha': 0.05247219196626322}. Best is trial 5 with value: 0.0530043184467395.\n",
      "[I 2025-01-05 22:16:28,300] Trial 26 finished with value: 0.06099281615918056 and parameters: {'alpha': 0.8436681459439755}. Best is trial 5 with value: 0.0530043184467395.\n",
      "[I 2025-01-05 22:16:28,331] Trial 20 finished with value: 0.0531694830084642 and parameters: {'alpha': 0.4644050348790471}. Best is trial 5 with value: 0.0530043184467395.\n",
      "[I 2025-01-05 22:16:28,378] Trial 25 finished with value: 0.0595723294745004 and parameters: {'alpha': 0.7768185763755041}. Best is trial 5 with value: 0.0530043184467395.\n",
      "[I 2025-01-05 22:16:28,424] Trial 21 finished with value: 0.07434407107845853 and parameters: {'alpha': 0.0036505213184018994}. Best is trial 5 with value: 0.0530043184467395.\n",
      "[I 2025-01-05 22:16:28,441] Trial 23 finished with value: 0.06170280311737264 and parameters: {'alpha': 0.8782148447050744}. Best is trial 5 with value: 0.0530043184467395.\n",
      "[I 2025-01-05 22:16:28,472] Trial 22 finished with value: 0.05914582384020483 and parameters: {'alpha': 0.14587106215979348}. Best is trial 5 with value: 0.0530043184467395.\n",
      "[I 2025-01-05 22:16:28,561] Trial 24 finished with value: 0.06183466919270326 and parameters: {'alpha': 0.8847230740037096}. Best is trial 5 with value: 0.0530043184467395.\n",
      "[I 2025-01-05 22:16:28,681] Trial 27 finished with value: 0.06382896438730798 and parameters: {'alpha': 0.9873748285102774}. Best is trial 5 with value: 0.0530043184467395.\n",
      "[I 2025-01-05 22:16:33,787] Trial 28 finished with value: 0.06266829054159337 and parameters: {'alpha': 0.926620533953242}. Best is trial 5 with value: 0.0530043184467395.\n",
      "[I 2025-01-05 22:16:33,960] Trial 29 finished with value: 0.059456813158365436 and parameters: {'alpha': 0.7715057624833785}. Best is trial 5 with value: 0.0530043184467395.\n",
      "[I 2025-01-05 22:16:34,463] Trial 31 finished with value: 0.05631913488787865 and parameters: {'alpha': 0.629559317093297}. Best is trial 5 with value: 0.0530043184467395.\n",
      "[I 2025-01-05 22:16:34,576] Trial 30 finished with value: 0.06321113052979542 and parameters: {'alpha': 0.9546755144340126}. Best is trial 5 with value: 0.0530043184467395.\n",
      "[I 2025-01-05 22:16:34,657] Trial 35 finished with value: 0.055631448338963156 and parameters: {'alpha': 0.2098849713606868}. Best is trial 5 with value: 0.0530043184467395.\n",
      "[I 2025-01-05 22:16:34,718] Trial 33 finished with value: 0.056457957805885715 and parameters: {'alpha': 0.6358697110241559}. Best is trial 5 with value: 0.0530043184467395.\n",
      "[I 2025-01-05 22:16:34,736] Trial 32 finished with value: 0.06162238817987648 and parameters: {'alpha': 0.8742614060117838}. Best is trial 5 with value: 0.0530043184467395.\n",
      "[I 2025-01-05 22:16:34,784] Trial 36 finished with value: 0.0546868955410178 and parameters: {'alpha': 0.23383585888385292}. Best is trial 5 with value: 0.0530043184467395.\n",
      "[I 2025-01-05 22:16:34,800] Trial 34 finished with value: 0.05428508041277816 and parameters: {'alpha': 0.531395078178417}. Best is trial 5 with value: 0.0530043184467395.\n",
      "[I 2025-01-05 22:16:34,890] Trial 37 finished with value: 0.05317093826011826 and parameters: {'alpha': 0.2903482742658151}. Best is trial 5 with value: 0.0530043184467395.\n",
      "[I 2025-01-05 22:16:34,931] Trial 38 finished with value: 0.05457188831756901 and parameters: {'alpha': 0.23713079071052828}. Best is trial 5 with value: 0.0530043184467395.\n",
      "[I 2025-01-05 22:16:34,970] Trial 40 finished with value: 0.05266432756598278 and parameters: {'alpha': 0.3260167387655398}. Best is trial 40 with value: 0.05266432756598278.\n",
      "[I 2025-01-05 22:16:35,035] Trial 41 finished with value: 0.05639045352703687 and parameters: {'alpha': 0.19346208601542927}. Best is trial 40 with value: 0.05266432756598278.\n",
      "[I 2025-01-05 22:16:35,174] Trial 39 finished with value: 0.053377228838281277 and parameters: {'alpha': 0.2801358094308461}. Best is trial 40 with value: 0.05266432756598278.\n",
      "[I 2025-01-05 22:16:38,009] Trial 42 finished with value: 0.05320301748365613 and parameters: {'alpha': 0.28866702402038263}. Best is trial 40 with value: 0.05266432756598278.\n",
      "[I 2025-01-05 22:16:38,139] Trial 43 finished with value: 0.05462750985734961 and parameters: {'alpha': 0.23552487380265824}. Best is trial 40 with value: 0.05266432756598278.\n",
      "[I 2025-01-05 22:16:38,292] Trial 45 finished with value: 0.054132138413468166 and parameters: {'alpha': 0.2507863375230057}. Best is trial 40 with value: 0.05266432756598278.\n",
      "[I 2025-01-05 22:16:38,318] Trial 44 finished with value: 0.0533620324605648 and parameters: {'alpha': 0.2808412402623506}. Best is trial 40 with value: 0.05266432756598278.\n",
      "[I 2025-01-05 22:16:38,369] Trial 47 finished with value: 0.05365495904248307 and parameters: {'alpha': 0.2681756524373577}. Best is trial 40 with value: 0.05266432756598278.\n",
      "[I 2025-01-05 22:16:38,382] Trial 46 finished with value: 0.05354464654316819 and parameters: {'alpha': 0.2727264616429055}. Best is trial 40 with value: 0.05266432756598278.\n",
      "[I 2025-01-05 22:16:38,426] Trial 48 finished with value: 0.05286035428036569 and parameters: {'alpha': 0.30941690787328935}. Best is trial 40 with value: 0.05266432756598278.\n",
      "[I 2025-01-05 22:16:38,475] Trial 49 finished with value: 0.05303871747281875 and parameters: {'alpha': 0.29776466075831726}. Best is trial 40 with value: 0.05266432756598278.\n"
     ]
    }
   ],
   "source": [
    "def objective(trial):\n",
    "\n",
    "    parameters = {'alpha': trial.suggest_float(\"alpha\", 1e-4, 1, log=True)}\n",
    "\n",
    "    kfolds_evaluation = []\n",
    "    for is_training, is_validation in kfolds:\n",
    "\n",
    "        # per group: fit model on train, predict on validation\n",
    "        segments_models = {\n",
    "            grp: Ridge(**parameters).fit(\n",
    "                XY.loc[is_training, FEATURES_LOCAL_MODEL], \n",
    "                XY.loc[is_training, 'num_sold_log']\n",
    "                )\n",
    "            for grp, XY in segments_XY.items()\n",
    "            }\n",
    "\n",
    "        segments_predictions = [\n",
    "            df.assign(\n",
    "                yhat = lambda df_: np.exp(segments_models[grp].predict(df_[FEATURES_LOCAL_MODEL])) \n",
    "                )\n",
    "            for grp, df in segments_XY.items()\n",
    "            ]\n",
    "\n",
    "        predictions = pd.concat(segments_predictions, axis=0)\n",
    "\n",
    "        scores = {\n",
    "            'validation': mean_absolute_percentage_error( \n",
    "                predictions.loc[is_validation, 'num_sold'],\n",
    "                predictions.loc[is_validation, 'yhat']\n",
    "                ),\n",
    "            'train': mean_absolute_percentage_error( \n",
    "                predictions.loc[is_training, 'num_sold'],\n",
    "                predictions.loc[is_training, 'yhat']\n",
    "                )\n",
    "            }\n",
    "        \n",
    "        kfolds_evaluation.append(scores)\n",
    "\n",
    "    score_overall = np.mean([ \n",
    "        kfolds_evaluation[0]['validation'], \n",
    "        kfolds_evaluation[1]['validation'] \n",
    "        ])\n",
    "    \n",
    "    return score_overall\n",
    "\n",
    "study = optuna.create_study()\n",
    "\n",
    "study.optimize(\n",
    "    objective,\n",
    "    n_trials=50,\n",
    "    catch=(ValueError,),\n",
    "    n_jobs=-1,\n",
    "    timeout=12 * 60 * 60,\n",
    ")"
   ]
  },
  {
   "cell_type": "code",
   "execution_count": 33,
   "metadata": {},
   "outputs": [
    {
     "data": {
      "text/plain": [
       "(FrozenTrial(number=40, state=TrialState.COMPLETE, values=[0.05266432756598278], datetime_start=datetime.datetime(2025, 1, 5, 22, 16, 28, 569400), datetime_complete=datetime.datetime(2025, 1, 5, 22, 16, 34, 970073), params={'alpha': 0.3260167387655398}, user_attrs={}, system_attrs={}, intermediate_values={}, distributions={'alpha': FloatDistribution(high=1.0, log=True, low=0.0001, step=None)}, trial_id=40, value=None),\n",
       " {'alpha': 0.3260167387655398},\n",
       " 0.05266432756598278)"
      ]
     },
     "execution_count": 33,
     "metadata": {},
     "output_type": "execute_result"
    }
   ],
   "source": [
    "study.best_trial, study.best_params, study.best_value"
   ]
  },
  {
   "cell_type": "code",
   "execution_count": 34,
   "metadata": {},
   "outputs": [],
   "source": [
    "# INCOMPLETE: stalled after ~20 minute runtime, and score not better than 0.1\n",
    "\n",
    "# def objective(trial):\n",
    "\n",
    "#     ROUNDS_COUNT = 100\n",
    "\n",
    "#     param = {\n",
    "#         \"objective\": \"reg:squarederror\",\n",
    "#         \"booster\": trial.suggest_categorical(\n",
    "#             \"booster\", [\"gbtree\", \"gblinear\", \"dart\"]\n",
    "#         ),\n",
    "#         \"lambda\": trial.suggest_float(\"lambda\", 1e-8, 1.0, log=True),\n",
    "#         \"alpha\": trial.suggest_float(\"alpha\", 1e-8, 1.0, log=True),\n",
    "#         \"subsample\": trial.suggest_float(\"subsample\", 0.4, 1.0),\n",
    "#         \"colsample_bytree\": trial.suggest_float(\"colsample_bytree\", 0.2, 1.0),\n",
    "#     }\n",
    "\n",
    "#     if param[\"booster\"] in [\"gbtree\", \"dart\"]:\n",
    "#         param[\"max_depth\"] = trial.suggest_int(\"max_depth\", 1, 9, step=2)\n",
    "\n",
    "#         param[\"min_child_weight\"] = trial.suggest_int(\"min_child_weight\", 1, 10)\n",
    "#         param[\"eta\"] = trial.suggest_float(\"eta\", 1e-5, 0.01, log=True)\n",
    "\n",
    "#         param[\"gamma\"] = trial.suggest_float(\"gamma\", 1e-8, 1.0, log=True)\n",
    "#         param[\"grow_policy\"] = trial.suggest_categorical(\n",
    "#             \"grow_policy\", [\"depthwise\", \"lossguide\"]\n",
    "#         )\n",
    "\n",
    "#     if param[\"booster\"] == \"dart\":\n",
    "#         param[\"sample_type\"] = trial.suggest_categorical(\n",
    "#             \"sample_type\", [\"uniform\", \"weighted\"]\n",
    "#         )\n",
    "#         param[\"normalize_type\"] = trial.suggest_categorical(\n",
    "#             \"normalize_type\", [\"tree\", \"forest\"]\n",
    "#         )\n",
    "#         param[\"rate_drop\"] = trial.suggest_float(\n",
    "#             \"rate_drop\", 1e-8, 1.0, log=True\n",
    "#         )\n",
    "#         param[\"skip_drop\"] = trial.suggest_float(\n",
    "#             \"skip_drop\", 1e-8, 1.0, log=True\n",
    "#         )\n",
    "\n",
    "#     kfolds_evaluation = []\n",
    "#     for is_training, is_validation in kfolds:\n",
    "\n",
    "#         segments_models = {}\n",
    "#         segments_predictions = []\n",
    "#         for grp, XY in segments_XY.items():\n",
    "\n",
    "#             dtrain = xgb.DMatrix(\n",
    "#                 XY.loc[is_training, FEATURES_LOCAL_MODEL], \n",
    "#                 label=XY.loc[is_training, 'num_sold_log']\n",
    "#                 )\n",
    "#             dtest = xgb.DMatrix(XY[FEATURES_LOCAL_MODEL])\n",
    "\n",
    "#             model_global = xgb.train(param, dtrain, ROUNDS_COUNT)\n",
    "#             segments_models[grp] = model_global\n",
    "        \n",
    "#             yhat = model_global.predict(dtest)\n",
    "#             predictions = (\n",
    "#                 XY\n",
    "#                 .copy()\n",
    "#                 .assign(yhat = lambda df_: np.exp(yhat))\n",
    "#                 )\n",
    "#             segments_predictions.append(predictions)\n",
    "\n",
    "#         predictions = pd.concat(segments_predictions, axis=0)\n",
    "\n",
    "#         scores = {\n",
    "#             'validation': mean_absolute_percentage_error( \n",
    "#                 predictions.loc[is_validation, 'num_sold'],\n",
    "#                 predictions.loc[is_validation, 'yhat']\n",
    "#                 ),\n",
    "#             'train': mean_absolute_percentage_error( \n",
    "#                 predictions.loc[is_training, 'num_sold'],\n",
    "#                 predictions.loc[is_training, 'yhat']\n",
    "#                 )\n",
    "#             }\n",
    "        \n",
    "#         kfolds_evaluation.append(scores)\n",
    "\n",
    "#     score_overall = np.mean([ \n",
    "#         kfolds_evaluation[0]['validation'], \n",
    "#         kfolds_evaluation[1]['validation'] \n",
    "#         ])\n",
    "    \n",
    "#     return score_overall\n",
    "\n",
    "# study = optuna.create_study()\n",
    "\n",
    "# study.optimize(\n",
    "#     objective,\n",
    "#     n_trials=25,\n",
    "#     catch=(ValueError,),\n",
    "#     n_jobs=-1,\n",
    "#     timeout=60 * 10,\n",
    "# )\n",
    "\n",
    "# study.best_trial, study.best_params, study.best_value"
   ]
  },
  {
   "cell_type": "code",
   "execution_count": 35,
   "metadata": {},
   "outputs": [
    {
     "data": {
      "text/plain": [
       "[{'validation': 0.05499817556770692, 'train': 0.046563998743642136},\n",
       " {'validation': 0.05033047956425864, 'train': 0.04645540645647234}]"
      ]
     },
     "execution_count": 35,
     "metadata": {},
     "output_type": "execute_result"
    }
   ],
   "source": [
    "RIDGE_ALPHA_TUNED = study.best_params['alpha']\n",
    "\n",
    "# from previous retail forecasting competitions' leaders,\n",
    "# plus theoretically expected heterogeneity between series: \n",
    "# one model per segment\n",
    "\n",
    "segments_XY = {grp: df for grp, df in XY.groupby('series_id')}\n",
    "\n",
    "# even when split into many dataframes, *index-based* subsets.\n",
    "# indexes maintained when dataframe splits.\n",
    "kfolds = [\n",
    "\n",
    "    # validation set 2014-16 matches ultimate test set's length, 2017-19\n",
    "    ( \n",
    "        ( (XY['date'] >= pd.to_datetime('2010-01-01')) & (XY['date'] < pd.to_datetime(\"2014-01-01\")) ),\n",
    "        XY['date'] >= pd.to_datetime(\"2014-01-01\")\n",
    "    ),\n",
    "\n",
    "    ( \n",
    "        ( (XY['date'] >= pd.to_datetime('2010-01-01')) & (XY['date'] < pd.to_datetime(\"2016-01-01\")) ),\n",
    "        XY['date'] >= pd.to_datetime(\"2016-01-01\")\n",
    "    )\n",
    "\n",
    "    ]\n",
    "\n",
    "kfolds_evaluation = []\n",
    "for is_training, is_validation in kfolds:\n",
    "\n",
    "    # per group: fit model on train, predict on validation\n",
    "    # WARNING: one model instance, then fitting it on each segment,\n",
    "    # does not imply separate model objects. they're all tied together.\n",
    "        # model = LinearRegression()\n",
    "    segments_models = {\n",
    "        grp: Ridge(RIDGE_ALPHA_TUNED).fit(\n",
    "            XY.loc[is_training, FEATURES_LOCAL_MODEL], \n",
    "            XY.loc[is_training, 'num_sold_log']\n",
    "            )\n",
    "        for grp, XY in segments_XY.items()\n",
    "        }\n",
    "\n",
    "    segments_predictions = [\n",
    "        df.assign(\n",
    "            yhat = lambda df_: np.exp(segments_models[grp].predict(df_[FEATURES_LOCAL_MODEL])) \n",
    "            )\n",
    "        for grp, df in segments_XY.items()\n",
    "        ]\n",
    "\n",
    "    predictions = pd.concat(segments_predictions, axis=0)\n",
    "\n",
    "    scores = {\n",
    "        'validation': mean_absolute_percentage_error( \n",
    "            predictions.loc[is_validation, 'num_sold'],\n",
    "            predictions.loc[is_validation, 'yhat']\n",
    "            ),\n",
    "        'train': mean_absolute_percentage_error( \n",
    "            predictions.loc[is_training, 'num_sold'],\n",
    "            predictions.loc[is_training, 'yhat']\n",
    "            )\n",
    "        }\n",
    "    \n",
    "    kfolds_evaluation.append(scores)\n",
    "\n",
    "kfolds_evaluation"
   ]
  },
  {
   "cell_type": "code",
   "execution_count": 36,
   "metadata": {},
   "outputs": [
    {
     "data": {
      "text/plain": [
       "<Axes: xlabel='date'>"
      ]
     },
     "execution_count": 36,
     "metadata": {},
     "output_type": "execute_result"
    },
    {
     "data": {
      "image/png": "[encoded data removed]",
      "text/plain": [
       "<Figure size 640x480 with 1 Axes>"
      ]
     },
     "metadata": {},
     "output_type": "display_data"
    }
   ],
   "source": [
    "predictions_sample = predictions.query(\"series_id == 'Norway|Premium Sticker Mart|Kaggle'\")\n",
    "\n",
    "predictions_sample.set_index('date')[['num_sold', 'yhat']].plot.line()"
   ]
  },
  {
   "cell_type": "code",
   "execution_count": 37,
   "metadata": {},
   "outputs": [
    {
     "data": {
      "text/html": [
       "<div>\n",
       "<style scoped>\n",
       "    .dataframe tbody tr th:only-of-type {\n",
       "        vertical-align: middle;\n",
       "    }\n",
       "\n",
       "    .dataframe tbody tr th {\n",
       "        vertical-align: top;\n",
       "    }\n",
       "\n",
       "    .dataframe thead th {\n",
       "        text-align: right;\n",
       "    }\n",
       "</style>\n",
       "<table border=\"1\" class=\"dataframe\">\n",
       "  <thead>\n",
       "    <tr style=\"text-align: right;\">\n",
       "      <th></th>\n",
       "      <th>country_Canada</th>\n",
       "      <th>country_Finland</th>\n",
       "      <th>country_Italy</th>\n",
       "      <th>country_Kenya</th>\n",
       "      <th>country_Norway</th>\n",
       "      <th>country_Singapore</th>\n",
       "      <th>store_Discount Stickers</th>\n",
       "      <th>store_Premium Sticker Mart</th>\n",
       "      <th>store_Stickers for Less</th>\n",
       "      <th>product_Holographic Goose</th>\n",
       "      <th>...</th>\n",
       "      <th>days_since_start_macro_sin</th>\n",
       "      <th>days_since_start_macro_cos</th>\n",
       "      <th>days_since_start</th>\n",
       "      <th>num_sold</th>\n",
       "      <th>series_id</th>\n",
       "      <th>date</th>\n",
       "      <th>id</th>\n",
       "      <th>num_sold_log</th>\n",
       "      <th>yhat</th>\n",
       "      <th>mape</th>\n",
       "    </tr>\n",
       "  </thead>\n",
       "  <tbody>\n",
       "    <tr>\n",
       "      <th>205452</th>\n",
       "      <td>0.0</td>\n",
       "      <td>0.0</td>\n",
       "      <td>0.0</td>\n",
       "      <td>0.0</td>\n",
       "      <td>1.0</td>\n",
       "      <td>0.0</td>\n",
       "      <td>0.0</td>\n",
       "      <td>1.0</td>\n",
       "      <td>0.0</td>\n",
       "      <td>0.0</td>\n",
       "      <td>...</td>\n",
       "      <td>0.889168</td>\n",
       "      <td>0.991086</td>\n",
       "      <td>1.357555</td>\n",
       "      <td>3063.0</td>\n",
       "      <td>Norway|Premium Sticker Mart|Kaggle Tiers</td>\n",
       "      <td>2016-04-01</td>\n",
       "      <td>205452</td>\n",
       "      <td>8.027150</td>\n",
       "      <td>2194.784079</td>\n",
       "      <td>39.558147</td>\n",
       "    </tr>\n",
       "    <tr>\n",
       "      <th>98510</th>\n",
       "      <td>0.0</td>\n",
       "      <td>0.0</td>\n",
       "      <td>0.0</td>\n",
       "      <td>1.0</td>\n",
       "      <td>0.0</td>\n",
       "      <td>0.0</td>\n",
       "      <td>0.0</td>\n",
       "      <td>0.0</td>\n",
       "      <td>1.0</td>\n",
       "      <td>1.0</td>\n",
       "      <td>...</td>\n",
       "      <td>-0.116726</td>\n",
       "      <td>-1.408545</td>\n",
       "      <td>-0.254748</td>\n",
       "      <td>9.0</td>\n",
       "      <td>Kenya|Stickers for Less|Holographic Goose</td>\n",
       "      <td>2012-12-30</td>\n",
       "      <td>98510</td>\n",
       "      <td>2.197225</td>\n",
       "      <td>6.520248</td>\n",
       "      <td>38.031559</td>\n",
       "    </tr>\n",
       "    <tr>\n",
       "      <th>230090</th>\n",
       "      <td>0.0</td>\n",
       "      <td>0.0</td>\n",
       "      <td>0.0</td>\n",
       "      <td>1.0</td>\n",
       "      <td>0.0</td>\n",
       "      <td>0.0</td>\n",
       "      <td>0.0</td>\n",
       "      <td>0.0</td>\n",
       "      <td>1.0</td>\n",
       "      <td>1.0</td>\n",
       "      <td>...</td>\n",
       "      <td>-0.141355</td>\n",
       "      <td>-1.408545</td>\n",
       "      <td>1.729416</td>\n",
       "      <td>10.0</td>\n",
       "      <td>Kenya|Stickers for Less|Holographic Goose</td>\n",
       "      <td>2016-12-31</td>\n",
       "      <td>230090</td>\n",
       "      <td>2.302585</td>\n",
       "      <td>7.284832</td>\n",
       "      <td>37.271527</td>\n",
       "    </tr>\n",
       "    <tr>\n",
       "      <th>205274</th>\n",
       "      <td>0.0</td>\n",
       "      <td>0.0</td>\n",
       "      <td>0.0</td>\n",
       "      <td>0.0</td>\n",
       "      <td>1.0</td>\n",
       "      <td>0.0</td>\n",
       "      <td>0.0</td>\n",
       "      <td>1.0</td>\n",
       "      <td>0.0</td>\n",
       "      <td>0.0</td>\n",
       "      <td>...</td>\n",
       "      <td>0.871715</td>\n",
       "      <td>1.008205</td>\n",
       "      <td>1.354841</td>\n",
       "      <td>2041.0</td>\n",
       "      <td>Norway|Premium Sticker Mart|Kerneler Dark Mode</td>\n",
       "      <td>2016-03-30</td>\n",
       "      <td>205274</td>\n",
       "      <td>7.621195</td>\n",
       "      <td>1490.825760</td>\n",
       "      <td>36.903993</td>\n",
       "    </tr>\n",
       "    <tr>\n",
       "      <th>229935</th>\n",
       "      <td>0.0</td>\n",
       "      <td>0.0</td>\n",
       "      <td>0.0</td>\n",
       "      <td>0.0</td>\n",
       "      <td>0.0</td>\n",
       "      <td>1.0</td>\n",
       "      <td>1.0</td>\n",
       "      <td>0.0</td>\n",
       "      <td>0.0</td>\n",
       "      <td>1.0</td>\n",
       "      <td>...</td>\n",
       "      <td>-0.116726</td>\n",
       "      <td>-1.408545</td>\n",
       "      <td>1.726702</td>\n",
       "      <td>194.0</td>\n",
       "      <td>Singapore|Discount Stickers|Holographic Goose</td>\n",
       "      <td>2016-12-29</td>\n",
       "      <td>229935</td>\n",
       "      <td>5.267858</td>\n",
       "      <td>142.356344</td>\n",
       "      <td>36.277734</td>\n",
       "    </tr>\n",
       "    <tr>\n",
       "      <th>229903</th>\n",
       "      <td>0.0</td>\n",
       "      <td>0.0</td>\n",
       "      <td>1.0</td>\n",
       "      <td>0.0</td>\n",
       "      <td>0.0</td>\n",
       "      <td>0.0</td>\n",
       "      <td>0.0</td>\n",
       "      <td>1.0</td>\n",
       "      <td>0.0</td>\n",
       "      <td>0.0</td>\n",
       "      <td>...</td>\n",
       "      <td>-0.116726</td>\n",
       "      <td>-1.408545</td>\n",
       "      <td>1.726702</td>\n",
       "      <td>731.0</td>\n",
       "      <td>Italy|Premium Sticker Mart|Kerneler</td>\n",
       "      <td>2016-12-29</td>\n",
       "      <td>229903</td>\n",
       "      <td>6.594413</td>\n",
       "      <td>537.523317</td>\n",
       "      <td>35.994101</td>\n",
       "    </tr>\n",
       "    <tr>\n",
       "      <th>205225</th>\n",
       "      <td>0.0</td>\n",
       "      <td>1.0</td>\n",
       "      <td>0.0</td>\n",
       "      <td>0.0</td>\n",
       "      <td>0.0</td>\n",
       "      <td>0.0</td>\n",
       "      <td>0.0</td>\n",
       "      <td>1.0</td>\n",
       "      <td>0.0</td>\n",
       "      <td>1.0</td>\n",
       "      <td>...</td>\n",
       "      <td>0.871715</td>\n",
       "      <td>1.008205</td>\n",
       "      <td>1.354841</td>\n",
       "      <td>274.0</td>\n",
       "      <td>Finland|Premium Sticker Mart|Holographic Goose</td>\n",
       "      <td>2016-03-30</td>\n",
       "      <td>205225</td>\n",
       "      <td>5.613128</td>\n",
       "      <td>201.718506</td>\n",
       "      <td>35.832852</td>\n",
       "    </tr>\n",
       "    <tr>\n",
       "      <th>205351</th>\n",
       "      <td>0.0</td>\n",
       "      <td>0.0</td>\n",
       "      <td>0.0</td>\n",
       "      <td>0.0</td>\n",
       "      <td>1.0</td>\n",
       "      <td>0.0</td>\n",
       "      <td>1.0</td>\n",
       "      <td>0.0</td>\n",
       "      <td>0.0</td>\n",
       "      <td>0.0</td>\n",
       "      <td>...</td>\n",
       "      <td>0.880479</td>\n",
       "      <td>0.999682</td>\n",
       "      <td>1.356198</td>\n",
       "      <td>1281.0</td>\n",
       "      <td>Norway|Discount Stickers|Kaggle</td>\n",
       "      <td>2016-03-31</td>\n",
       "      <td>205351</td>\n",
       "      <td>7.155396</td>\n",
       "      <td>944.930255</td>\n",
       "      <td>35.565561</td>\n",
       "    </tr>\n",
       "    <tr>\n",
       "      <th>65516</th>\n",
       "      <td>0.0</td>\n",
       "      <td>0.0</td>\n",
       "      <td>0.0</td>\n",
       "      <td>0.0</td>\n",
       "      <td>0.0</td>\n",
       "      <td>1.0</td>\n",
       "      <td>0.0</td>\n",
       "      <td>1.0</td>\n",
       "      <td>0.0</td>\n",
       "      <td>0.0</td>\n",
       "      <td>...</td>\n",
       "      <td>-0.165981</td>\n",
       "      <td>1.409898</td>\n",
       "      <td>-0.752824</td>\n",
       "      <td>2684.0</td>\n",
       "      <td>Singapore|Premium Sticker Mart|Kaggle</td>\n",
       "      <td>2011-12-29</td>\n",
       "      <td>65516</td>\n",
       "      <td>7.895063</td>\n",
       "      <td>1985.693829</td>\n",
       "      <td>35.166860</td>\n",
       "    </tr>\n",
       "    <tr>\n",
       "      <th>32723</th>\n",
       "      <td>0.0</td>\n",
       "      <td>0.0</td>\n",
       "      <td>0.0</td>\n",
       "      <td>1.0</td>\n",
       "      <td>0.0</td>\n",
       "      <td>0.0</td>\n",
       "      <td>0.0</td>\n",
       "      <td>0.0</td>\n",
       "      <td>1.0</td>\n",
       "      <td>0.0</td>\n",
       "      <td>...</td>\n",
       "      <td>-0.104413</td>\n",
       "      <td>-1.408389</td>\n",
       "      <td>-1.246830</td>\n",
       "      <td>18.0</td>\n",
       "      <td>Kenya|Stickers for Less|Kerneler</td>\n",
       "      <td>2010-12-30</td>\n",
       "      <td>32723</td>\n",
       "      <td>2.890372</td>\n",
       "      <td>13.328294</td>\n",
       "      <td>35.051041</td>\n",
       "    </tr>\n",
       "  </tbody>\n",
       "</table>\n",
       "<p>10 rows × 103 columns</p>\n",
       "</div>"
      ],
      "text/plain": [
       "        country_Canada  country_Finland  country_Italy  country_Kenya  \\\n",
       "205452             0.0              0.0            0.0            0.0   \n",
       "98510              0.0              0.0            0.0            1.0   \n",
       "230090             0.0              0.0            0.0            1.0   \n",
       "205274             0.0              0.0            0.0            0.0   \n",
       "229935             0.0              0.0            0.0            0.0   \n",
       "229903             0.0              0.0            1.0            0.0   \n",
       "205225             0.0              1.0            0.0            0.0   \n",
       "205351             0.0              0.0            0.0            0.0   \n",
       "65516              0.0              0.0            0.0            0.0   \n",
       "32723              0.0              0.0            0.0            1.0   \n",
       "\n",
       "        country_Norway  country_Singapore  store_Discount Stickers  \\\n",
       "205452             1.0                0.0                      0.0   \n",
       "98510              0.0                0.0                      0.0   \n",
       "230090             0.0                0.0                      0.0   \n",
       "205274             1.0                0.0                      0.0   \n",
       "229935             0.0                1.0                      1.0   \n",
       "229903             0.0                0.0                      0.0   \n",
       "205225             0.0                0.0                      0.0   \n",
       "205351             1.0                0.0                      1.0   \n",
       "65516              0.0                1.0                      0.0   \n",
       "32723              0.0                0.0                      0.0   \n",
       "\n",
       "        store_Premium Sticker Mart  store_Stickers for Less  \\\n",
       "205452                         1.0                      0.0   \n",
       "98510                          0.0                      1.0   \n",
       "230090                         0.0                      1.0   \n",
       "205274                         1.0                      0.0   \n",
       "229935                         0.0                      0.0   \n",
       "229903                         1.0                      0.0   \n",
       "205225                         1.0                      0.0   \n",
       "205351                         0.0                      0.0   \n",
       "65516                          1.0                      0.0   \n",
       "32723                          0.0                      1.0   \n",
       "\n",
       "        product_Holographic Goose  ...  days_since_start_macro_sin  \\\n",
       "205452                        0.0  ...                    0.889168   \n",
       "98510                         1.0  ...                   -0.116726   \n",
       "230090                        1.0  ...                   -0.141355   \n",
       "205274                        0.0  ...                    0.871715   \n",
       "229935                        1.0  ...                   -0.116726   \n",
       "229903                        0.0  ...                   -0.116726   \n",
       "205225                        1.0  ...                    0.871715   \n",
       "205351                        0.0  ...                    0.880479   \n",
       "65516                         0.0  ...                   -0.165981   \n",
       "32723                         0.0  ...                   -0.104413   \n",
       "\n",
       "        days_since_start_macro_cos  days_since_start  num_sold  \\\n",
       "205452                    0.991086          1.357555    3063.0   \n",
       "98510                    -1.408545         -0.254748       9.0   \n",
       "230090                   -1.408545          1.729416      10.0   \n",
       "205274                    1.008205          1.354841    2041.0   \n",
       "229935                   -1.408545          1.726702     194.0   \n",
       "229903                   -1.408545          1.726702     731.0   \n",
       "205225                    1.008205          1.354841     274.0   \n",
       "205351                    0.999682          1.356198    1281.0   \n",
       "65516                     1.409898         -0.752824    2684.0   \n",
       "32723                    -1.408389         -1.246830      18.0   \n",
       "\n",
       "                                             series_id       date      id  \\\n",
       "205452        Norway|Premium Sticker Mart|Kaggle Tiers 2016-04-01  205452   \n",
       "98510        Kenya|Stickers for Less|Holographic Goose 2012-12-30   98510   \n",
       "230090       Kenya|Stickers for Less|Holographic Goose 2016-12-31  230090   \n",
       "205274  Norway|Premium Sticker Mart|Kerneler Dark Mode 2016-03-30  205274   \n",
       "229935   Singapore|Discount Stickers|Holographic Goose 2016-12-29  229935   \n",
       "229903             Italy|Premium Sticker Mart|Kerneler 2016-12-29  229903   \n",
       "205225  Finland|Premium Sticker Mart|Holographic Goose 2016-03-30  205225   \n",
       "205351                 Norway|Discount Stickers|Kaggle 2016-03-31  205351   \n",
       "65516            Singapore|Premium Sticker Mart|Kaggle 2011-12-29   65516   \n",
       "32723                 Kenya|Stickers for Less|Kerneler 2010-12-30   32723   \n",
       "\n",
       "        num_sold_log         yhat       mape  \n",
       "205452      8.027150  2194.784079  39.558147  \n",
       "98510       2.197225     6.520248  38.031559  \n",
       "230090      2.302585     7.284832  37.271527  \n",
       "205274      7.621195  1490.825760  36.903993  \n",
       "229935      5.267858   142.356344  36.277734  \n",
       "229903      6.594413   537.523317  35.994101  \n",
       "205225      5.613128   201.718506  35.832852  \n",
       "205351      7.155396   944.930255  35.565561  \n",
       "65516       7.895063  1985.693829  35.166860  \n",
       "32723       2.890372    13.328294  35.051041  \n",
       "\n",
       "[10 rows x 103 columns]"
      ]
     },
     "execution_count": 37,
     "metadata": {},
     "output_type": "execute_result"
    }
   ],
   "source": [
    "(\n",
    "    predictions\n",
    "    .assign(mape = lambda df_: np.abs(100 * (df_['num_sold']/df_['yhat'] - 1)) )\n",
    "    .sort_values('mape', ascending=False)\n",
    "    .head(10)\n",
    ")"
   ]
  },
  {
   "cell_type": "code",
   "execution_count": 38,
   "metadata": {},
   "outputs": [
    {
     "data": {
      "text/plain": [
       "<Axes: xlabel='date'>"
      ]
     },
     "execution_count": 38,
     "metadata": {},
     "output_type": "execute_result"
    },
    {
     "data": {
      "image/png": "[encoded data removed]",
      "text/plain": [
       "<Figure size 640x480 with 1 Axes>"
      ]
     },
     "metadata": {},
     "output_type": "display_data"
    }
   ],
   "source": [
    "predictions_sample = predictions.query(\"series_id == 'Norway|Premium Sticker Mart|Kaggle Tiers'\")\n",
    "\n",
    "predictions_sample.set_index('date')[['num_sold', 'yhat']].plot.line()"
   ]
  },
  {
   "cell_type": "code",
   "execution_count": 39,
   "metadata": {},
   "outputs": [
    {
     "data": {
      "text/plain": [
       "<Axes: xlabel='date'>"
      ]
     },
     "execution_count": 39,
     "metadata": {},
     "output_type": "execute_result"
    },
    {
     "data": {
      "image/png": "[encoded data removed]",
      "text/plain": [
       "<Figure size 640x480 with 1 Axes>"
      ]
     },
     "metadata": {},
     "output_type": "display_data"
    }
   ],
   "source": [
    "predictions_sample = predictions.query(\"series_id == 'Kenya|Stickers for Less|Holographic Goose'\")\n",
    "\n",
    "predictions_sample.set_index('date')[['num_sold', 'yhat']].plot.line()"
   ]
  },
  {
   "cell_type": "code",
   "execution_count": 40,
   "metadata": {},
   "outputs": [],
   "source": [
    "SEGMENTS_MODELS = {\n",
    "    grp: Ridge(RIDGE_ALPHA_TUNED).fit(XY[FEATURES_LOCAL_MODEL], XY['num_sold_log'])\n",
    "    for grp, XY in segments_XY.items()\n",
    "    }"
   ]
  },
  {
   "cell_type": "markdown",
   "metadata": {},
   "source": [
    "# Deployment"
   ]
  },
  {
   "cell_type": "code",
   "execution_count": 41,
   "metadata": {},
   "outputs": [],
   "source": [
    "sales_test_daily = pd.read_csv(\"./data/external/test.csv\").assign(\n",
    "    date = lambda df_: pd.to_datetime(df_['date']),\n",
    "    series_id = lambda df_: df_['country'].str.cat([df_['store'], df_['product']], sep='|')\n",
    "    )"
   ]
  },
  {
   "cell_type": "code",
   "execution_count": 42,
   "metadata": {},
   "outputs": [
    {
     "data": {
      "text/html": [
       "<div>\n",
       "<style scoped>\n",
       "    .dataframe tbody tr th:only-of-type {\n",
       "        vertical-align: middle;\n",
       "    }\n",
       "\n",
       "    .dataframe tbody tr th {\n",
       "        vertical-align: top;\n",
       "    }\n",
       "\n",
       "    .dataframe thead th {\n",
       "        text-align: right;\n",
       "    }\n",
       "</style>\n",
       "<table border=\"1\" class=\"dataframe\">\n",
       "  <thead>\n",
       "    <tr style=\"text-align: right;\">\n",
       "      <th></th>\n",
       "      <th>id</th>\n",
       "      <th>date</th>\n",
       "      <th>country</th>\n",
       "      <th>store</th>\n",
       "      <th>product</th>\n",
       "      <th>series_id</th>\n",
       "    </tr>\n",
       "  </thead>\n",
       "  <tbody>\n",
       "    <tr>\n",
       "      <th>0</th>\n",
       "      <td>230130</td>\n",
       "      <td>2017-01-01</td>\n",
       "      <td>Canada</td>\n",
       "      <td>Discount Stickers</td>\n",
       "      <td>Holographic Goose</td>\n",
       "      <td>Canada|Discount Stickers|Holographic Goose</td>\n",
       "    </tr>\n",
       "    <tr>\n",
       "      <th>1</th>\n",
       "      <td>230131</td>\n",
       "      <td>2017-01-01</td>\n",
       "      <td>Canada</td>\n",
       "      <td>Discount Stickers</td>\n",
       "      <td>Kaggle</td>\n",
       "      <td>Canada|Discount Stickers|Kaggle</td>\n",
       "    </tr>\n",
       "    <tr>\n",
       "      <th>2</th>\n",
       "      <td>230132</td>\n",
       "      <td>2017-01-01</td>\n",
       "      <td>Canada</td>\n",
       "      <td>Discount Stickers</td>\n",
       "      <td>Kaggle Tiers</td>\n",
       "      <td>Canada|Discount Stickers|Kaggle Tiers</td>\n",
       "    </tr>\n",
       "    <tr>\n",
       "      <th>3</th>\n",
       "      <td>230133</td>\n",
       "      <td>2017-01-01</td>\n",
       "      <td>Canada</td>\n",
       "      <td>Discount Stickers</td>\n",
       "      <td>Kerneler</td>\n",
       "      <td>Canada|Discount Stickers|Kerneler</td>\n",
       "    </tr>\n",
       "    <tr>\n",
       "      <th>4</th>\n",
       "      <td>230134</td>\n",
       "      <td>2017-01-01</td>\n",
       "      <td>Canada</td>\n",
       "      <td>Discount Stickers</td>\n",
       "      <td>Kerneler Dark Mode</td>\n",
       "      <td>Canada|Discount Stickers|Kerneler Dark Mode</td>\n",
       "    </tr>\n",
       "  </tbody>\n",
       "</table>\n",
       "</div>"
      ],
      "text/plain": [
       "       id       date country              store             product  \\\n",
       "0  230130 2017-01-01  Canada  Discount Stickers   Holographic Goose   \n",
       "1  230131 2017-01-01  Canada  Discount Stickers              Kaggle   \n",
       "2  230132 2017-01-01  Canada  Discount Stickers        Kaggle Tiers   \n",
       "3  230133 2017-01-01  Canada  Discount Stickers            Kerneler   \n",
       "4  230134 2017-01-01  Canada  Discount Stickers  Kerneler Dark Mode   \n",
       "\n",
       "                                     series_id  \n",
       "0   Canada|Discount Stickers|Holographic Goose  \n",
       "1              Canada|Discount Stickers|Kaggle  \n",
       "2        Canada|Discount Stickers|Kaggle Tiers  \n",
       "3            Canada|Discount Stickers|Kerneler  \n",
       "4  Canada|Discount Stickers|Kerneler Dark Mode  "
      ]
     },
     "execution_count": 42,
     "metadata": {},
     "output_type": "execute_result"
    }
   ],
   "source": [
    "sales_test_daily.head()"
   ]
  },
  {
   "cell_type": "code",
   "execution_count": 43,
   "metadata": {},
   "outputs": [
    {
     "data": {
      "text/plain": [
       "count                  98550\n",
       "mean     2018-07-02 00:00:00\n",
       "min      2017-01-01 00:00:00\n",
       "25%      2017-10-01 00:00:00\n",
       "50%      2018-07-02 00:00:00\n",
       "75%      2019-04-02 00:00:00\n",
       "max      2019-12-31 00:00:00\n",
       "Name: date, dtype: object"
      ]
     },
     "execution_count": 43,
     "metadata": {},
     "output_type": "execute_result"
    }
   ],
   "source": [
    "sales_test_daily['date'].describe()"
   ]
  },
  {
   "cell_type": "code",
   "execution_count": 44,
   "metadata": {},
   "outputs": [],
   "source": [
    "sales_test_daily = transform_calendar_features(sales_test_daily)\n",
    "sales_test_daily = integrate_external_features(sales_test_daily)"
   ]
  },
  {
   "cell_type": "code",
   "execution_count": 45,
   "metadata": {},
   "outputs": [],
   "source": [
    "sales_test_daily = sales_test_daily.assign(\n",
    "    num_sold = None,\n",
    "    num_sold_log = None\n",
    ")\n",
    "sales_test_enriched_daily = feature_transform_pipeline.transform(sales_test_daily)"
   ]
  },
  {
   "cell_type": "code",
   "execution_count": 46,
   "metadata": {},
   "outputs": [],
   "source": [
    "segments_X_test = {grp: df for grp, df in sales_test_enriched_daily.groupby('series_id')}\n",
    "\n",
    "segments_predictions_test = []\n",
    "for grp, df in segments_X_test.items():\n",
    "\n",
    "    if grp in SEGMENTS_MODELS:\n",
    "        df = df.assign(\n",
    "            yhat = lambda df_: np.exp(SEGMENTS_MODELS[grp].predict(df_[FEATURES_LOCAL_MODEL])) \n",
    "            )  \n",
    "    else:\n",
    "        df = df.assign(\n",
    "            yhat = lambda df_: np.exp(model_global.predict(df_[FEATURES_GLOBAL_MODEL])) \n",
    "            )\n",
    "\n",
    "    segments_predictions_test.append(df)\n",
    "\n",
    "predictions_test = pd.concat(segments_predictions_test, axis=0)"
   ]
  },
  {
   "cell_type": "code",
   "execution_count": 47,
   "metadata": {},
   "outputs": [],
   "source": [
    "predictions_test_submit = (\n",
    "    predictions_test\n",
    "    [['id', 'yhat']]\n",
    "    .rename(columns={'yhat': 'num_sold'})\n",
    "    )"
   ]
  },
  {
   "cell_type": "code",
   "execution_count": 48,
   "metadata": {},
   "outputs": [],
   "source": [
    "assert predictions_test_submit.shape[0] == 98_550\n",
    "assert predictions_test_submit.notnull().all().all()\n",
    "predictions_test_submit.to_csv(\"./data/processed/submission2.csv\", index=False)"
   ]
  },
  {
   "cell_type": "code",
   "execution_count": null,
   "metadata": {},
   "outputs": [],
   "source": []
  }
 ],
 "metadata": {
  "kernelspec": {
   "display_name": "forecast_stickers_kaggle",
   "language": "python",
   "name": "python3"
  },
  "language_info": {
   "codemirror_mode": {
    "name": "ipython",
    "version": 3
   },
   "file_extension": ".py",
   "mimetype": "text/x-python",
   "name": "python",
   "nbconvert_exporter": "python",
   "pygments_lexer": "ipython3",
   "version": "3.10.16"
  }
 },
 "nbformat": 4,
 "nbformat_minor": 2
}
